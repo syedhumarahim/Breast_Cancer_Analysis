{
 "cells": [
  {
   "cell_type": "code",
   "execution_count": null,
   "metadata": {},
   "outputs": [],
   "source": [
    "# Import libraries\n",
    "import pandas as pd\n",
    "import numpy as np\n",
    "import matplotlib.pyplot as plt\n",
    "import seaborn as sns\n",
    "\n",
    "\n",
    "from scipy import stats\n",
    "from lifelines import KaplanMeierFitter, CoxPHFitter"
   ]
  },
  {
   "cell_type": "code",
   "execution_count": null,
   "metadata": {},
   "outputs": [],
   "source": [
    "# Load the dataset\n",
    "df = pd.read_csv(\"data1.csv\")\n",
    "\n",
    "# Quick peek at the first few rows\n",
    "df.head()"
   ]
  },
  {
   "cell_type": "code",
   "execution_count": null,
   "metadata": {},
   "outputs": [],
   "source": [
    "# Parse the form completion date properly\n",
    "df[\"Form completion date\"] = pd.to_datetime(df[\"Form completion date\"], errors=\"coerce\")\n",
    "\n",
    "# Check the date range\n",
    "print(\"\\nDate range for Form Completion Date:\")\n",
    "print(\"Earliest:\", df[\"Form completion date\"].min())\n",
    "print(\"Latest:\", df[\"Form completion date\"].max())"
   ]
  },
  {
   "cell_type": "code",
   "execution_count": null,
   "metadata": {},
   "outputs": [],
   "source": [
    "# Check available categories\n",
    "print(\"Ethnicity Category distribution:\")\n",
    "print(df[\"Ethnicity Category\"].value_counts())\n",
    "\n",
    "print(\"\\nRace Category distribution:\")\n",
    "print(df[\"Race Category\"].value_counts())"
   ]
  },
  {
   "cell_type": "code",
   "execution_count": null,
   "metadata": {},
   "outputs": [],
   "source": [
    "# Plot distribution of Ethnicity and Race\n",
    "plt.figure(figsize=(12, 6))\n",
    "\n",
    "# Bar chart for Ethnicity Category\n",
    "plt.subplot(1, 2, 1)\n",
    "sns.countplot(\n",
    "    data=df, x=\"Ethnicity Category\", order=df[\"Ethnicity Category\"].value_counts().index\n",
    ")\n",
    "plt.title(\"Distribution of Ethnicity Category\")\n",
    "plt.xticks(rotation=45)\n",
    "\n",
    "# Bar chart for Race Category\n",
    "plt.subplot(1, 2, 2)\n",
    "sns.countplot(\n",
    "    data=df, x=\"Race Category\", order=df[\"Race Category\"].value_counts().index\n",
    ")\n",
    "plt.title(\"Distribution of Race Category\")\n",
    "plt.xticks(rotation=45)\n",
    "\n",
    "plt.tight_layout()\n",
    "plt.show()\n",
    "\n",
    "# Parse the form completion date properly\n",
    "df[\"Form completion date\"] = pd.to_datetime(df[\"Form completion date\"], errors=\"coerce\")"
   ]
  },
  {
   "cell_type": "code",
   "execution_count": null,
   "metadata": {},
   "outputs": [],
   "source": [
    "cols_keep = [\n",
    "    \"Patient ID\",\n",
    "    \"Ethnicity Category\",\n",
    "    \"Race Category\",\n",
    "    \"Diagnosis Age\",\n",
    "    \"Sex\",\n",
    "    \"Neoplasm Disease Stage American Joint Committee on Cancer Code\",\n",
    "    \"Neoplasm Histologic Grade\",\n",
    "    \"Overall Survival (Months)\",\n",
    "    \"Overall Survival Status\",\n",
    "]\n",
    "df_causal = df[cols_keep].copy()"
   ]
  },
  {
   "cell_type": "code",
   "execution_count": null,
   "metadata": {},
   "outputs": [],
   "source": [
    "# treatment\n",
    "df_causal = df_causal[df_causal[\"Race Category\"].eq(\"White\")]  # limiting to White race\n",
    "df_causal[\"treated\"] = (\n",
    "    df_causal[\"Race Category\"] == \"Black or African American\"\n",
    ").astype(int)\n",
    "\n",
    "# outcome\n",
    "df_causal[\"Y_5yr\"] = (df_causal[\"Overall Survival (Months)\"] >= 60).astype(int)"
   ]
  },
  {
   "cell_type": "code",
   "execution_count": null,
   "metadata": {},
   "outputs": [],
   "source": []
  },
  {
   "cell_type": "code",
   "execution_count": null,
   "metadata": {},
   "outputs": [],
   "source": [
    "df_causal[\"Neoplasm Histologic Grade\"].isna().sum()"
   ]
  },
  {
   "cell_type": "code",
   "execution_count": null,
   "metadata": {},
   "outputs": [],
   "source": [
    "df_causal.shape"
   ]
  },
  {
   "cell_type": "code",
   "execution_count": null,
   "metadata": {},
   "outputs": [],
   "source": [
    "# cleaning otehr variables\n",
    "df_causal[\"age\"] = pd.to_numeric(df_causal[\"Diagnosis Age\"], errors=\"coerce\")\n",
    "df_causal[\"stage\"] = df_causal[\n",
    "    \"Neoplasm Disease Stage American Joint Committee on Cancer Code\"\n",
    "].str.extract(\n",
    "    r\"(I+V?)\"\n",
    ")  # I, II, III, IV\n",
    "# df_causal[\"grade\"] = df_causal[\"Neoplasm Histologic Grade\"].str.extract(r\"(\\d)\")  it has only nan values so dropping grade\n",
    "df_causal.drop(columns=[\"Neoplasm Histologic Grade\"], inplace=True)\n",
    "df_causal[\"sex\"] = df_causal[\"Sex\"].map({\"Female\": 0, \"Male\": 1})\n",
    "covars = [\"age\", \"age_sq\", \"sex\", \"stage\"]\n",
    "df_causal[\"age_sq\"] = df_causal[\"age\"] ** 2\n",
    "df_causal = df_causal.dropna(subset=[\"treated\", \"Y_5yr\"] + covars)"
   ]
  },
  {
   "cell_type": "code",
   "execution_count": null,
   "metadata": {},
   "outputs": [],
   "source": [
    "df_causal[\"stage\"].value_counts()"
   ]
  },
  {
   "cell_type": "code",
   "execution_count": null,
   "metadata": {},
   "outputs": [],
   "source": [
    "order_stage = [\"I\", \"II\", \"III\", \"IV\"]\n",
    "plt.figure(figsize=(8, 6))\n",
    "# sns.countplot(data=df_causal, x=\"stage\", order=df_causal[\"stage\"].value_counts().index)\n",
    "sns.countplot(data=df_causal, x=\"stage\", order=order_stage)\n",
    "plt.title(\"Distribution of Cancer Stages\")\n",
    "plt.xlabel(\"Stage\")\n",
    "plt.ylabel(\"Count\")\n",
    "plt.xticks(rotation=45)\n",
    "plt.tight_layout()\n",
    "plt.show()"
   ]
  },
  {
   "cell_type": "code",
   "execution_count": null,
   "metadata": {},
   "outputs": [],
   "source": [
    "df_causal.head()"
   ]
  },
  {
   "cell_type": "code",
   "execution_count": null,
   "metadata": {},
   "outputs": [],
   "source": [
    "# Data for the bar plot\n",
    "categories = [\"Hispanic\", \"White NH\"]\n",
    "proportions = [27, 26]  # Five-year survival proportions in percentages\n",
    "\n",
    "# Create the bar plot\n",
    "plt.figure(figsize=(6, 4))\n",
    "plt.bar(categories, proportions, color=[\"orange\", \"blue\"], alpha=0.7)\n",
    "plt.title(\"Five-Year Survival Proportions\")\n",
    "plt.ylabel(\"Proportion (%)\")\n",
    "plt.ylim(0, 30)  # Set y-axis limit for better visualization\n",
    "plt.grid(axis=\"y\", linestyle=\"--\", alpha=0.7)\n",
    "plt.show()"
   ]
  },
  {
   "cell_type": "code",
   "execution_count": null,
   "metadata": {},
   "outputs": [],
   "source": [
    "df_causal"
   ]
  },
  {
   "cell_type": "code",
   "execution_count": null,
   "metadata": {},
   "outputs": [],
   "source": [
    "from sklearn.pipeline import Pipeline\n",
    "from sklearn.compose import ColumnTransformer\n",
    "from sklearn.preprocessing import OneHotEncoder\n",
    "from sklearn.linear_model import LogisticRegression\n",
    "\n",
    "X_cols = [\"age\", \"age_sq\", \"sex\", \"stage\"]\n",
    "y = df_causal[\"treated\"]\n",
    "\n",
    "pipe = Pipeline(\n",
    "    [\n",
    "        (\n",
    "            \"prep\",\n",
    "            ColumnTransformer(\n",
    "                [\n",
    "                    (\"num\", \"passthrough\", [\"age\", \"age_sq\"]),\n",
    "                    (\"cat\", OneHotEncoder(drop=\"first\"), [\"sex\", \"stage\"]),\n",
    "                ]\n",
    "            ),\n",
    "        ),\n",
    "        (\"logit\", LogisticRegression(max_iter=1000)),\n",
    "    ]\n",
    ")\n",
    "df_causal[\"ps\"] = pipe.fit(X=df_causal[X_cols], y=y).predict_proba(df_causal[X_cols])[\n",
    "    :, 1\n",
    "]"
   ]
  },
  {
   "cell_type": "code",
   "execution_count": null,
   "metadata": {},
   "outputs": [],
   "source": [
    "import seaborn as sns, matplotlib.pyplot as plt\n",
    "\n",
    "plt.figure(figsize=(6, 4))\n",
    "sns.kdeplot(df_causal.loc[df_causal.treated == 1, \"ps\"], label=\"Hispanic (treated)\")\n",
    "sns.kdeplot(\n",
    "    df_causal.loc[df_causal.treated == 0, \"ps\"], label=\"White, Non-Hispanic (control)\"\n",
    ")\n",
    "\n",
    "plt.title(\"Propensity-score overlap\")\n",
    "plt.xlabel(\"Propensity score (P[Treated | X])\")\n",
    "plt.ylabel(\"Kernel density\")\n",
    "plt.legend(frameon=False, loc=\"upper right\")  # ← legend!\n",
    "plt.tight_layout()\n",
    "plt.show()"
   ]
  },
  {
   "cell_type": "markdown",
   "metadata": {},
   "source": [
    "> Propensity score (PS)\tThe probability that a given unit receives the treatment, conditional on the covariates we observe.  Mathematically, for each patient i:  $$\\text{PS}_i ;=; P(T_i = 1 ;\\mid; X_i)$$  where T = 1 means “patient is Hispanic” (our treatment) and X is the set of pre-treatment characteristics we included in the logit model (age, age², stage, sex).\n",
    "\n",
    "> In an observational study the treated (Hispanic) and control (White, non-Hispanic) patients may differ on age, stage, etc.  By computing each patient’s propensity score we create a single balancing metric: if two patients share (or nearly share) the same PS they have, by construction, similar values of all the covariates used to build it.\\\n",
    "\n",
    "> The plot shows the distribution of estimated propensity scores—the predicted probability of being Hispanic given each patient’s age, stage, and sex—for the two groups in your study. The orange curve represents Hispanic patients (the “treated” group), while the blue curve represents White, non-Hispanic patients (the control group). Where the two curves sit on the horizontal axis tells you how similar the groups look on the covariates we used to build the score: a value near 0 means a patient’s profile makes them very unlikely to be Hispanic; a value near 0.10 means their profile is fairly typical of Hispanics in the data. The key takeaway is the overlap region between roughly 0.03 and 0.09 where both curves sit on top of each other—this is the “common support” zone. Because every treated patient in that band has control patients with almost identical propensity scores, we can form well-balanced matched pairs and make credible causal comparisons. Overall, the plot reassures us that matching is feasible and that the final effect we estimate will be based on patients who are genuinely comparable on age, stage, and sex—isolating ethnicity as the key difference."
   ]
  },
  {
   "cell_type": "code",
   "execution_count": null,
   "metadata": {},
   "outputs": [],
   "source": [
    "import pandas as pd, numpy as np\n",
    "from scipy.stats import ttest_ind, chi2_contingency\n",
    "import statsmodels.api as sm\n",
    "import statsmodels.formula.api as smf"
   ]
  },
  {
   "cell_type": "code",
   "execution_count": null,
   "metadata": {},
   "outputs": [],
   "source": [
    "# mean overall survival months\n",
    "\n",
    "mean_surv = (\n",
    "    df_causal.groupby(\"treated\")[\"Overall Survival (Months)\"]\n",
    "    .agg([\"mean\", \"std\", \"count\"])\n",
    "    .rename(index={0: \"White NH\", 1: \"Hispanic\"})\n",
    ")\n",
    "print(mean_surv)"
   ]
  },
  {
   "cell_type": "markdown",
   "metadata": {},
   "source": [
    "> On average, White non-Hispanic patients in this cohort survived about 44 months after diagnosis, whereas Hispanic patients survived about 47 months. Although the Hispanic mean is three months higher, both groups exhibit wide dispersion (standard deviations ≈ 40–42 months), meaning individual experiences vary greatly around these averages. Given the relatively small number of Hispanic cases (33 versus 708 White non-Hispanic), this raw difference could easily be driven by chance or by other factors—such as age or stage at diagnosis—rather than by ethnicity itself. In other words, the summary suggests no obvious survival disadvantage for Hispanic patients, but the overlap in variability and the imbalance in sample sizes signal that we need formal statistical tests or covariate-adjusted analyses before drawing any causal conclusions."
   ]
  },
  {
   "cell_type": "code",
   "execution_count": null,
   "metadata": {},
   "outputs": [],
   "source": [
    "# Welch t-test (unequal variances)\n",
    "treated_os = df_causal.loc[df_causal.treated == 1, \"Overall Survival (Months)\"]\n",
    "control_os = df_causal.loc[df_causal.treated == 0, \"Overall Survival (Months)\"]\n",
    "\n",
    "t, p = ttest_ind(treated_os, control_os, equal_var=False, nan_policy=\"omit\")\n",
    "print(f\"Welch t = {t:.2f}  (p = {p:.3f})\")"
   ]
  },
  {
   "cell_type": "markdown",
   "metadata": {},
   "source": [
    "> The Welch t-statistic of 0.39 with a p-value of 0.695 tells us that, once we account for the very different sample sizes and variances in the two groups, the 3-month difference in mean overall-survival (47 months for Hispanic patients vs 44 months for White non-Hispanic patients) is statistically indistinguishable from zero.\n",
    "\n",
    "> In practical terms, we fail to reject the null hypothesis that the two groups share the same mean survival time. Because the p-value is so much larger than any conventional significance threshold (0.10, 0.05, 0.01), the observed gap could easily have arisen from random sampling variation—especially given that there are only 33 Hispanic observations versus 708 controls. This result reinforces the idea that we need covariate-adjusted methods (matching or regression) to detect whether a true survival difference emerges once we control for age, stage, and sex, rather than relying on raw averages."
   ]
  },
  {
   "cell_type": "code",
   "execution_count": null,
   "metadata": {},
   "outputs": [],
   "source": [
    "# Five-year-survival proportions + χ² test\n",
    "\n",
    "contingency = pd.crosstab(df_causal[\"treated\"], df_causal[\"Y_5yr\"])\n",
    "chi2, pchi, *_ = chi2_contingency(contingency.values)\n",
    "display(contingency)\n",
    "print(f\"Chi-square = {chi2:.2f}  (p = {pchi:.3f})\")"
   ]
  },
  {
   "cell_type": "markdown",
   "metadata": {},
   "source": [
    "> The cross-tab shows that 26 % of White, non-Hispanic patients (184 / 708) and 27 % of Hispanic patients (9 / 33) survived at least five years. A χ² test of independence yields χ² = 0.00, p = 1.00, indicating that this tiny difference is exactly what we would expect if ethnicity had no association with five-year survival in the raw data.\n",
    "\n",
    "> Two cautions remain. First, power is limited: with only 33 Hispanic observations the test has little chance of detecting anything but a very large effect, and expected counts flirt with the rule-of-thumb minimum of five (a Fisher exact test reaches the same “no evidence” conclusion). Second, the comparison is unadjusted: it ignores the fact that our Hispanic and White patients differ in age and stage distribution. The propensity-score overlap we plotted confirms that there are sufficient control patients to build balanced matched pairs, and our logistic-regression model already adjusts survival odds for age, stage, and sex. Those covariate-balanced analyses are therefore crucial to determine whether an underlying disparity emerges once patients are made comparable on their clinical profiles."
   ]
  },
  {
   "cell_type": "code",
   "execution_count": null,
   "metadata": {},
   "outputs": [],
   "source": [
    "df_causal.info()"
   ]
  },
  {
   "cell_type": "code",
   "execution_count": null,
   "metadata": {},
   "outputs": [],
   "source": [
    "logit = smf.logit(formula=\"Y_5yr ~ treated + age + sex+ C(stage)\", data=df_causal).fit()\n",
    "print(logit.summary().tables[1])\n",
    "print(\"\\nOdds-ratio for treated:\", np.exp(logit.params[\"treated\"]).round(2))"
   ]
  },
  {
   "cell_type": "markdown",
   "metadata": {},
   "source": [
    ">we ran a multivariable logistic regression to address the two limitations of the raw test:\n",
    "\t\n",
    ">\t1.\tCovariate adjustment. By including age, sex, and detailed stage dummies in the model we ask: “If two patients are the same age, the same sex, and at the same stage, does ethnicity still matter for five-year survival?”\n",
    "\n",
    ">\t2.\tEfficiency with a small treated group. Regression borrows information from the full White, non-Hispanic sample to sharpen the estimate for the 33 Hispanic cases, giving tighter confidence intervals than a 2 × 2 table can provide.\n",
    "\n",
    "\n",
    ">the treated coefficient = –0.004, p = 0.992; odds-ratio ≈ 1.00. After adjustment, Hispanic patients are no more or less likely to survive five years than otherwise similar White, non-Hispanic patients. The z-score (-0.01) and the 95 % CI (0.45 – 2.23 when exponentiated) both show the effect is statistically indistinguishable from zero.\n",
    "\n",
    ">Also, we know that the stage matters from the results. Compared with Stage I (the omitted category), Stage II and III patients have 42–48 % lower odds of five-year survival (coefficients -0.56 and -0.67; both p ≈ 0.01). Stage IV is directionally similar but imprecise because there are only ten cases.\n",
    "\n",
    ">Similarly age matters. Each additional year at diagnosis reduces the odds of five-year survival by about 3 % (coef = -0.035, p < 0.001), consistent with your exploratory findings.\n",
    "\n",
    ">we found that sex is not significant. The large standard error on the sex coefficient (1.01 ± 0.76) means we can’t rule out either advantage or disadvantage for male patients; with only a handful of males in the cohort, this is expected.\n",
    "\n",
    "\n",
    ">The logistic model confirms the story hinted at by the χ² test and the propensity-score overlap: within comparable age, sex, and stage strata, Hispanic ethnicity does not exert an independent effect on five-year survival in this dataset. The dominant predictors remain clinical—stage at diagnosis and age—rather than ethnicity.\n",
    "\n"
   ]
  },
  {
   "cell_type": "code",
   "execution_count": null,
   "metadata": {},
   "outputs": [],
   "source": [
    "# bucket age into coarse bands to guarantee matches\n",
    "df_causal[\"age_bin\"] = pd.cut(\n",
    "    df_causal[\"age\"],\n",
    "    bins=[0, 40, 50, 60, 70, 120],\n",
    "    labels=[\"<40\", \"40-49\", \"50-59\", \"60-69\", \"70+\"],\n",
    ")\n",
    "\n",
    "# convert all match covariates to string (categorical)\n",
    "match_covs = [\"age_bin\", \"stage\", \"sex\"]\n",
    "df_causal[match_covs] = df_causal[match_covs].astype(str)"
   ]
  },
  {
   "cell_type": "code",
   "execution_count": null,
   "metadata": {},
   "outputs": [],
   "source": [
    "# prepping dtaa for dame\n",
    "dame_df = df_causal[[\"treated\", \"Y_5yr\", \"age\", \"stage\", \"sex\"]].copy()\n",
    "\n",
    "\n",
    "dame_df[\"age_bin\"] = pd.cut(\n",
    "    dame_df[\"age\"], bins=[0, 40, 50, 60, 70, 120], labels=[0, 1, 2, 3, 4]  # already int\n",
    ").astype(int)\n",
    "\n",
    "# 2. map stage (I, II, III, IV → 1–4)\n",
    "stage_map = {\"I\": 1, \"II\": 2, \"III\": 3, \"IV\": 3}  # merged III & IV for overlap\n",
    "dame_df[\"stage_int\"] = dame_df[\"stage\"].map(stage_map).astype(int)\n",
    "\n",
    "# 3. ensure sex_num is integer  (0 = Female, 1 = Male)\n",
    "dame_df[\"sex_int\"] = dame_df[\"sex\"].astype(int)\n",
    "\n",
    "# final dataset for DAME\n",
    "dame_ready = dame_df[[\"treated\", \"Y_5yr\", \"age_bin\", \"stage_int\", \"sex_int\"]]"
   ]
  },
  {
   "cell_type": "code",
   "execution_count": null,
   "metadata": {},
   "outputs": [],
   "source": [
    "import warnings\n",
    "\n",
    "warnings.filterwarnings(\"ignore\", category=FutureWarning)"
   ]
  },
  {
   "cell_type": "code",
   "execution_count": null,
   "metadata": {},
   "outputs": [],
   "source": [
    "# Run DAME\n",
    "from dame_flame.matching import DAME\n",
    "\n",
    "model = DAME(repeats=False, verbose=2, want_pe=True, stop_unmatched_t=False)\n",
    "\n",
    "model.fit(dame_ready, treatment_column_name=\"treated\", outcome_column_name=\"Y_5yr\")\n",
    "\n",
    "matched = model.predict(dame_ready)"
   ]
  },
  {
   "cell_type": "code",
   "execution_count": null,
   "metadata": {},
   "outputs": [],
   "source": [
    "matched.summary()"
   ]
  },
  {
   "cell_type": "code",
   "execution_count": null,
   "metadata": {},
   "outputs": [],
   "source": [
    "# Plot predictive error vs. iteration\n",
    "plt.figure(figsize=(10, 6))\n",
    "plt.plot(model.pe_each_iter, marker=\"o\")\n",
    "plt.xlabel(\"Iteration Number\")\n",
    "plt.ylabel(\"Predictive Error\")\n",
    "plt.title(\"Predictive Error at Each DAME Iteration\")\n",
    "plt.grid(True)\n",
    "plt.show()"
   ]
  },
  {
   "cell_type": "code",
   "execution_count": null,
   "metadata": {},
   "outputs": [],
   "source": [
    "import numpy as np\n",
    "\n",
    "\n",
    "def get_dataframe(model, result_of_fit):\n",
    "    # Get original data\n",
    "    better = model.input_data.loc[result_of_fit.index].copy()\n",
    "    if not better.index.is_unique:\n",
    "        raise ValueError(\n",
    "            \"Need index values in input data to \\\n",
    "                         be unique\"\n",
    "        )\n",
    "\n",
    "    # Get match groups for clustering\n",
    "    better[\"match_group\"] = np.nan\n",
    "    better[\"match_group_size\"] = np.nan\n",
    "    for idx, group in enumerate(model.units_per_group):\n",
    "        better.loc[group, \"match_group\"] = idx\n",
    "        better.loc[group, \"match_group_size\"] = len(group)\n",
    "\n",
    "    # Get treatment column name\n",
    "    t = model.treatment_column_name\n",
    "\n",
    "    # Count treated units in each group\n",
    "    better[\"t_in_group\"] = better.groupby(\"match_group\")[t].transform(np.sum)\n",
    "\n",
    "    # Assign weights\n",
    "    better[\"weights\"] = np.nan\n",
    "    better.loc[better[t] == 1, \"weights\"] = 1  # treatments\n",
    "\n",
    "    # Controls get proportional weights\n",
    "    better.loc[better[t] == 0, \"weights\"] = better[\"t_in_group\"] / (\n",
    "        better[\"match_group_size\"] - better[\"t_in_group\"]\n",
    "    )\n",
    "\n",
    "    # Re-normalize control weights\n",
    "    control_weights = better.loc[better[t] == 0, \"weights\"].sum()\n",
    "    num_control_obs = better.loc[better[t] == 0].index.nunique()\n",
    "    renormalization = num_control_obs / control_weights\n",
    "    better.loc[better[t] == 0, \"weights\"] *= renormalization\n",
    "\n",
    "    # Drop helper column\n",
    "    better = better.drop(columns=[\"t_in_group\"])\n",
    "\n",
    "    # Final checks\n",
    "    assert len(result_of_fit) == len(better)\n",
    "    assert better[\"weights\"].notnull().all()\n",
    "    assert round(better.loc[better[t] == 0, \"weights\"].sum(), 6) == num_control_obs\n",
    "\n",
    "    return better\n",
    "\n",
    "\n",
    "# run It with the Fitted Model\n",
    "matched_df = get_dataframe(model, matched)"
   ]
  },
  {
   "cell_type": "code",
   "execution_count": null,
   "metadata": {},
   "outputs": [],
   "source": [
    "matched_df"
   ]
  },
  {
   "cell_type": "code",
   "execution_count": null,
   "metadata": {},
   "outputs": [],
   "source": [
    "logit = smf.logit(\n",
    "    formula=\"Y_5yr ~ treated + C(age_bin) + C(sex_int)+ C(stage_int)\", data=matched_df\n",
    ").fit()\n",
    "print(logit.summary().tables[1])\n",
    "print(\"\\nOdds-ratio for treated:\", np.exp(logit.params[\"treated\"]).round(2))"
   ]
  },
  {
   "cell_type": "code",
   "execution_count": null,
   "metadata": {},
   "outputs": [],
   "source": [
    "matched_df"
   ]
  },
  {
   "cell_type": "code",
   "execution_count": null,
   "metadata": {},
   "outputs": [],
   "source": [
    "#  ATT using the DAME-generated counterfactual column\n",
    "if \"matched_outcome\" in matched_df.columns:\n",
    "    att = (\n",
    "        matched_df.loc[matched_df.treated == 1, \"Y_5yr\"]\n",
    "        - matched_df.loc[matched_df.treated == 1, \"matched_outcome\"]\n",
    "    ).mean()\n",
    "    print(f\"ATT (using matched_outcome) = {att*100:+.1f} pp\")\n",
    "\n",
    "# ATT using weights when WE do not have matched_outcome\n",
    "else:\n",
    "    # Compute weighted mean survival for treated and control\n",
    "    treated_surv = (\n",
    "        matched_df.loc[matched_df.treated == 1].eval(\"Y_5yr * weights\").sum()\n",
    "        / matched_df.loc[matched_df.treated == 1, \"weights\"].sum()\n",
    "    )\n",
    "    control_surv = (\n",
    "        matched_df.loc[matched_df.treated == 0].eval(\"Y_5yr * weights\").sum()\n",
    "        / matched_df.loc[matched_df.treated == 0, \"weights\"].sum()\n",
    "    )\n",
    "    att = treated_surv - control_surv\n",
    "    print(f\"ATT (weighted pairs) = {att*100:+.1f} pp\")"
   ]
  },
  {
   "cell_type": "markdown",
   "metadata": {},
   "source": [
    "> Once DAME produced exact matches on age band, stage, and sex, we effectively re-balanced the covariate distributions between Hispanics (treated = 1) and White, non-Hispanics (treated = 0). Running the logistic model again on this matched sample is a quick robustness check on i f matching truly balanced the covariates, the treated coefficient in the regression should move even closer to zero and lose any residual significance, because all systematic differences have been purged. and the other covariate coefficients may shrink or lose significance as well, because within matched strata there is less variation left for the model to explain.\n",
    "\n",
    "> what we found through this analysis is that after exact matching, ethnicity remains a null effect; age remains prognostic; stage effects are absorbed by matched design.\n"
   ]
  },
  {
   "cell_type": "markdown",
   "metadata": {},
   "source": [
    "> First, the ethnicity term is essentially null: the log-odds coefficient for treated is +0.053 (p = 0.90), which translates to an odds-ratio of roughly 1.05—virtually no difference in five-year survival between Hispanic patients and their matched White, non-Hispanic counterparts. Age remains the dominant prognostic factor: each successive age-band dummy carries a larger negative coefficient, confirming that the probability of surviving five years falls steadily as patients move from the 40-49 band into older decades, even after coarse age matching. Stage effects largely disappear once matching has enforced exact agreement on stage; the coefficients for Stage II and Stage III are small and statistically insignificant because little residual variation in stage is left for the model to explain. Finally, sex retains a large standard error and remains non-significant, reflecting the very small number of males in the cohort. Together, these coefficients reinforce the matching and ATT findings: once patients are aligned on stage, age, and sex, Hispanic ethnicity itself does not meaningfully alter five-year overall survival."
   ]
  },
  {
   "cell_type": "markdown",
   "metadata": {},
   "source": [
    "> After coarse exact matching on age band, AJCC stage, and sex, every Hispanic patient was paired with a clinically identical White, non-Hispanic control (621 total matched units).  The matching produced an average treatment effect on the treated (ATT) of +2.8 percentage-points, meaning Hispanic patients were 2.8 pp more likely to survive five years than their matched controls.  A follow-up logistic regression on this balanced set confirmed the absence of any statistically meaningful ethnicity effect (β = 0.053, p = 0.90; odds-ratio ≈ 1.05).\n",
    "\n",
    "> Taken together, these results indicate that—conditional on presenting at the same stage, age band, and sex—Hispanic ethnicity does not reduce five-year overall survival.  The slight positive ATT is well within the wide confidence band implied by the small treated sample and mirrors the regression estimate’s 95 % CI, which comfortably spans unity.  In short, once clinical factors are aligned, survival outcomes for Hispanic and White, non-Hispanic breast-cancer patients in this cohort are essentially indistinguishable."
   ]
  }
 ],
 "metadata": {
  "kernelspec": {
   "display_name": "Python 3",
   "language": "python",
   "name": "python3"
  },
  "language_info": {
   "codemirror_mode": {
    "name": "ipython",
    "version": 3
   },
   "file_extension": ".py",
   "mimetype": "text/x-python",
   "name": "python",
   "nbconvert_exporter": "python",
   "pygments_lexer": "ipython3",
   "version": "3.12.7"
  }
 },
 "nbformat": 4,
 "nbformat_minor": 2
}
